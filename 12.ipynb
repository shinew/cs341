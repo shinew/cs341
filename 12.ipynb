{
 "cells": [
  {
   "cell_type": "markdown",
   "metadata": {},
   "source": [
    "# SCC\n",
    "\n",
    "See https://en.wikipedia.org/wiki/Kosaraju%27s_algorithm."
   ]
  },
  {
   "cell_type": "markdown",
   "metadata": {},
   "source": [
    "# MST\n",
    "\n",
    "Given $G=(V,E), w=E \\to R^+$ find a connected subgraph $T$ s.t. it covers all vertices and have minimum total weight summed over the edges.\n",
    "\n",
    "Lemma: it must be a tree. Proof: otherwise it contains a cycle. But cycles don't contribute to covering vertices, so we remove any non-negative edge in the cycle. The set of covered vertices is still complete but we decreased the total weight.\n",
    "\n",
    "\n",
    "## Kruskal\n",
    "\n",
    "Idea: keep picking edges (from least to greatest weight) that don't make a cycle. Can be implemented with union-find in $O(m \\log n)$.\n",
    "\n",
    "Proof of correctness: the end result is connected because we try adding every single edge (if we do not add an edge, it's because it's a part of a cycle and thus the vertices are included already). Why is this minimal? Because for any subset of vertices S, their shortest edge must be in the MST (otherwise if it is not, adding it would make a cycle, and removing something else will have total weight reduced since this edge is minimal).\n",
    "\n",
    "\n",
    "## Prim\n",
    "\n",
    "Idea: keep adding the closest edge relative to the current set of vertices. Implemented in $O(n^2 + m)$ naively, can be $O(n \\log n + m)$ using a heap."
   ]
  },
  {
   "cell_type": "code",
   "execution_count": null,
   "metadata": {
    "collapsed": true
   },
   "outputs": [],
   "source": []
  }
 ],
 "metadata": {
  "kernelspec": {
   "display_name": "Python 2",
   "language": "python",
   "name": "python2"
  },
  "language_info": {
   "codemirror_mode": {
    "name": "ipython",
    "version": 2
   },
   "file_extension": ".py",
   "mimetype": "text/x-python",
   "name": "python",
   "nbconvert_exporter": "python",
   "pygments_lexer": "ipython2",
   "version": "2.7.11"
  }
 },
 "nbformat": 4,
 "nbformat_minor": 0
}
