{
 "cells": [
  {
   "cell_type": "markdown",
   "metadata": {},
   "source": [
    "# NP-Completeness\n",
    "\n",
    "How to prove a problem is hard\n",
    "\n",
    "e.g. 3-coloring, min-length triangulation of a set of points, 0-1 knapsack, longest simple path, TSP, etc.\n",
    "\n",
    "## The Class P\n",
    "\n",
    "(defining \"easy/tractable\" problems)\n",
    "\n",
    "P = all decision problems solvable in worst-case polynomial time.\n",
    "\n",
    "- \"Decision problem\" - output is \"yes\" or \"no\"\n",
    "- \"Polynomial\" O(n^d), where n is the input size (in # of bits)\n",
    "\n",
    "e.g. given directed graph G, output \"yes\" iff there's a cycle. This is in P, by DFS.\n",
    "\n",
    "\"TSP-Decision\" - input: given graph G and weight W, yes iff exists cycle C that vists each vertex exactly once & has total weight $\\leq W$.\n",
    "\n",
    "If TSP is solvable in P, then $TSPDECIS \\in P$, and vice versa (by binary search in $O(log(nW_{max}))$). One could recover the original cycle by deleting edges and re-testing TSP, and see if the cycle changes (deleting edges is permanent).\n",
    "\n",
    "### Example: Prime\n",
    "\n",
    "Input: $n$-bit number $N$.\n",
    "\n",
    "Output: \"yess\" iff $N$ is prime\n",
    "\n",
    "Consider a brute force for algorithm. Runtime $O(\\sqrt{N}n^2)=O(2^{n/2} n^2)$ (if we include division complexity as well).\n",
    "\n",
    "Is PRIME in P? Yes, via some paper in number theory.\n",
    "\n",
    "Justification for polynomial:\n",
    "- degree $d$ is usually small\n",
    "- polynomials are closed under multiplication/composition/addition\n",
    "- model independent (RAM/Turing machine)\n",
    "\n",
    "## Class NP\n",
    "Our theory concentrates on one common type of problems, \"search problems\".\n",
    "\n",
    "NP = all decision problems that can be expressed in the form:\n",
    "\n",
    "Input: Object x\n",
    "\n",
    "Output: yes iff there exists object y s.t. property R(x,y) holds\n",
    "\n",
    "Where:\n",
    "\n",
    "1. object $y$ has poly size\n",
    "2. property R(x, y) can be checked in polynomial time"
   ]
  }
 ],
 "metadata": {
  "kernelspec": {
   "display_name": "Python 2",
   "language": "python",
   "name": "python2"
  },
  "language_info": {
   "codemirror_mode": {
    "name": "ipython",
    "version": 2
   },
   "file_extension": ".py",
   "mimetype": "text/x-python",
   "name": "python",
   "nbconvert_exporter": "python",
   "pygments_lexer": "ipython2",
   "version": "2.7.12"
  }
 },
 "nbformat": 4,
 "nbformat_minor": 0
}
