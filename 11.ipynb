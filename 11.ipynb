{
 "cells": [
  {
   "cell_type": "markdown",
   "metadata": {},
   "source": [
    "# Graph Algorithms\n",
    "\n",
    "A *graph* is $G=(V,E)$. $m=|E|$, $n=|V|$, $n-1 < m \\leq n^2$.\n",
    "\n",
    "Adjacency matrix: $A[u,v]=1$ iff $(u,v) \\in E$, else $0$. $O(n^2)$ space.\n",
    "\n",
    "Adjacency list: for each $u \\in V$, store linked list $Adj[u]={v: (u,v) \\in E}$. $O(n+m)$ space.\n",
    "\n",
    "Use DFS/BFS to find a path from $s$ to $t$.\n",
    "\n",
    "*back edge*: an edge that goes to a parent in a traversal.\n",
    "\n",
    "*forward edge*: an edge that goes to a child (?).\n",
    "\n",
    "*cross edge*: an edge that connects nodes on different branches.\n",
    "\n",
    "No forward edges in BFS. For undirected graphs, forward edges same as back, no cross edges in DFS.\n",
    "\n",
    "BFS and DFS: $\\Theta(n+m)$ runtime."
   ]
  },
  {
   "cell_type": "markdown",
   "metadata": {
    "collapsed": true
   },
   "source": [
    "Useful for:\n",
    "\n",
    "1. Are 2 vertices connected?\n",
    "2. Is undirected graph connected?\n",
    "3. Does graph contain a cycle?\n",
    "    - for undirected, run BFS/DFS on graph\n",
    "\n",
    "BFS gives unweighted shortest path.\n",
    "\n",
    "## Bipartiteness/\"2-colouring\"\n",
    "\n",
    "Given undirected graph G, determine whether it can be 2-coloured.\n",
    "\n",
    "Solution: just DFS/BFS out from a point, colour all neighbouring point of the current point different from the current point. If we find a contradiction, then it is not possible. Else we would've coloured all the points.\n",
    "\n",
    "Bipartite iff there is no odd-length cycle."
   ]
  },
  {
   "cell_type": "markdown",
   "metadata": {},
   "source": [
    "## Topological Sort\n",
    "\n",
    "Given *directed* graph, return a vertex order s.t. $\\forall (u,v) \\in E \\implies$ $u$ appears before $v$. This is always possible if we do not have a cycle (aka. a DAG).\n",
    "\n",
    "Solution: DFS, then reverse discovery order, $O(m+n)$ time."
   ]
  },
  {
   "cell_type": "code",
   "execution_count": null,
   "metadata": {
    "collapsed": true
   },
   "outputs": [],
   "source": []
  }
 ],
 "metadata": {
  "kernelspec": {
   "display_name": "Python 2",
   "language": "python",
   "name": "python2"
  },
  "language_info": {
   "codemirror_mode": {
    "name": "ipython",
    "version": 2
   },
   "file_extension": ".py",
   "mimetype": "text/x-python",
   "name": "python",
   "nbconvert_exporter": "python",
   "pygments_lexer": "ipython2",
   "version": "2.7.11"
  }
 },
 "nbformat": 4,
 "nbformat_minor": 0
}
