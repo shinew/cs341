{
 "cells": [
  {
   "cell_type": "markdown",
   "metadata": {},
   "source": [
    "# The Recursion Tree Method\n",
    "\n",
    "- expand for $k$ iterations to get a tree\n",
    "- set $k$ to reach base case\n",
    "- sum everything\n",
    "\n",
    "Example: $T(n) = 5T(n/4) = \\sqrt{n}$\n",
    "\n",
    "By tree, we get:\n",
    "\n",
    "$n/4^k = 1$\n",
    "\n",
    "$T(n) = (\\sum_{i=0}^{k-1}{(5/2)^i \\sqrt{n}}) + 5^k = \\Theta(n^{\\log_{4}{5}})$\n",
    "\n",
    "---"
   ]
  },
  {
   "cell_type": "markdown",
   "metadata": {},
   "source": [
    "# The Master Method\n",
    "\n",
    "- look up answer!\n",
    "- doesn't work for everything: if $f(n)=n/\\log{n}$, it does not work\n",
    "\n",
    "Let $T(n) = aT(n/b) + n^d$\n",
    "\n",
    "Let $x=\\log_{b}{a}$. if:\n",
    "\n",
    "- $d > x: T(n) = \\Theta(n^d)$\n",
    "- $d = x: T(n) = \\Theta(n^x\\log{n})$\n",
    "- $d < x: T(n) = \\Theta(n^x)$\n",
    "\n",
    "---"
   ]
  },
  {
   "cell_type": "markdown",
   "metadata": {},
   "source": [
    "# The Guess-and-Check Method\n",
    "\n",
    "- guess\n",
    "- verify by induction proof (often the proof inducts on $n/2$, then prove for $n$)\n",
    "- fill in constants\n",
    "- **Remember to solve for $c$ afterwards** - to satisfy inductive step\n",
    "- this only gets you either $O$ or $\\Omega$ with every \"run\" of the induction\n",
    "\n",
    "Sometimes, we'll need to add a $-c$ constant at the end of the guess for induction to work"
   ]
  }
 ],
 "metadata": {
  "kernelspec": {
   "display_name": "Python 2",
   "language": "python",
   "name": "python2"
  },
  "language_info": {
   "codemirror_mode": {
    "name": "ipython",
    "version": 2
   },
   "file_extension": ".py",
   "mimetype": "text/x-python",
   "name": "python",
   "nbconvert_exporter": "python",
   "pygments_lexer": "ipython2",
   "version": "2.7.11"
  }
 },
 "nbformat": 4,
 "nbformat_minor": 0
}
