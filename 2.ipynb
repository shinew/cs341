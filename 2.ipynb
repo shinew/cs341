{
 "cells": [
  {
   "cell_type": "markdown",
   "metadata": {},
   "source": [
    "#### Remark on Analysis\n",
    "\n",
    "In general, analyze growth rate of runtime as a function of input size $n$. (i.e. take max over all input of size $n$).\n",
    "\n",
    "Model isn't perfect. Constant factors do matter in practice, worst case can be overly pessimistic.\n",
    "\n",
    "### 3SUM Problem\n",
    "\n",
    "> Given an array $a_i$ of numbers, are there 3 numbers (taken with replacement) that sum up to $t$?\n",
    "\n",
    "State-of-the-art: $O(\\frac{n^2}{\\log n})$"
   ]
  },
  {
   "cell_type": "code",
   "execution_count": 4,
   "metadata": {
    "collapsed": false
   },
   "outputs": [],
   "source": [
    "# O(N^3)\n",
    "def three_sum_1(numbers, t):\n",
    "    for a in numbers:\n",
    "        for b in numbers:\n",
    "            for c in numbers:\n",
    "                if a + b + c == t:\n",
    "                    return True\n",
    "    return False\n",
    "\n",
    "# O(N^2)\n",
    "def three_sum_2(numbers, t):\n",
    "    sums = []\n",
    "    for a in numbers:\n",
    "        for b in numbers:\n",
    "            sums.append(a+b)\n",
    "    residuals = [t - x for x in numbers]\n",
    "    return len(set(sums) & set(residuals)) > 0\n",
    "\n",
    "# helper function: O(N)\n",
    "def find_common(a1, a2):\n",
    "    x1 = 0\n",
    "    x2 = 0\n",
    "    while x1 < len(a1) and x2 < len(a2):\n",
    "        if a1[x1] == a2[x2]:\n",
    "            return True\n",
    "        elif a1[x1] < a2[x2]:\n",
    "            x1 += 1\n",
    "        else:\n",
    "            x2 += 1\n",
    "    return False\n",
    "\n",
    "# O(N^2 log N)\n",
    "def three_sum_3(numbers, t):\n",
    "    sums = []\n",
    "    for a in numbers:\n",
    "        for b in numbers:\n",
    "            sums.append(a+b)\n",
    "    residuals = [t - x for x in numbers]\n",
    "    sums.sort()\n",
    "    residuals.sort()\n",
    "    return find_common(sums, residuals)\n",
    "\n",
    "# O(N^2)\n",
    "def three_sum_4(numbers, t):\n",
    "    numbers.sort()\n",
    "    residuals = [t - x for x in reversed(numbers)]  # guaranteed to be sorted\n",
    "    for a in numbers:\n",
    "        sums = [x + a for x in numbers]  # guaranteed to be sorted\n",
    "        if find_common(sums, residuals):\n",
    "            return True\n",
    "    return False"
   ]
  },
  {
   "cell_type": "code",
   "execution_count": 5,
   "metadata": {
    "collapsed": false
   },
   "outputs": [],
   "source": [
    "test_array = [1, 2, 3, 4, 5]\n",
    "assert three_sum_1(test_array, 12)\n",
    "assert three_sum_2(test_array, 12)\n",
    "assert three_sum_3(test_array, 12)\n",
    "assert three_sum_4(test_array, 12)"
   ]
  },
  {
   "cell_type": "markdown",
   "metadata": {
    "collapsed": true
   },
   "source": [
    "#### Math Review\n",
    "- $O$ = upper bound\n",
    "- $\\Omega$ = lower bound\n",
    "- $\\Theta$ = tight bound\n",
    "- $o$ = loose upper bound\n",
    "- $\\omega$ = loose lower bound\n",
    "\n",
    "Def: let $f,g: \\mathbb{N} \\to \\mathbb{R}$. $f(n) \\in O(g(n))$ iff $\\exists c > 0, n_0 > 0$ s.t. $\\forall n \\geq n_0, f(n) \\leq cg(n)$\n",
    "\n",
    "Def: $f(n) \\in \\Omega(g(n))$ iff $\\exists c > 0, n_0 > 0$ s.t. $\\forall n \\geq n_0, f(n) \\geq cg(n)$\n",
    "\n",
    "Def: $f(n) \\in \\Theta(g(n))$ iff $f(n) \\in O(g(n))$ and $f(n) \\in \\Omega(g(n))$\n",
    "\n",
    "Def: $f(n) \\in o(g(n))$ iff $\\forall c > 0, \\exists n_0 > 0$ s.t. $\\forall n \\geq n_0, f(n) < cg(n)$\n",
    "\n",
    "Def: $f(n) \\in \\omega(g(n))$ iff $\\forall c > 0, \\exists n_0 > 0$ s.t. $\\forall n \\geq n_0, f(n) > cg(n)$"
   ]
  }
 ],
 "metadata": {
  "kernelspec": {
   "display_name": "Python 2",
   "language": "python",
   "name": "python2"
  },
  "language_info": {
   "codemirror_mode": {
    "name": "ipython",
    "version": 2
   },
   "file_extension": ".py",
   "mimetype": "text/x-python",
   "name": "python",
   "nbconvert_exporter": "python",
   "pygments_lexer": "ipython2",
   "version": "2.7.11"
  }
 },
 "nbformat": 4,
 "nbformat_minor": 0
}
