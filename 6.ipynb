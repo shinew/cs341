{
 "cells": [
  {
   "cell_type": "markdown",
   "metadata": {},
   "source": [
    "# Multiplying Large Numbers\n",
    "\n",
    "Given 2 $n$-bit numbers $A$ and $B$, compute $AB$. Trivially there's a lower bound of $\\Omega (N)$. Trivial solution is $O(N^2)$.\n",
    "\n",
    "Alternatively, use Karatsuba-Ofman's Algorithm: see https://en.wikipedia.org/wiki/Karatsuba_algorithm\n",
    "\n",
    "If $x = x_1 B^m + x_2, y = y_1 B^m + y_2$, then we exploit the fact that $z = x_1 y_2 + x_2 y_1 = (x_1 + y_1) (x_2 + y_2) - x_1 y_1 - x_2 y_2$ and $xy = (x_1 B^m + x_2) (y_1 B^m + y_2) = x_1 y_1 B^{2m} + z B^m + x_2 y_2$."
   ]
  },
  {
   "cell_type": "code",
   "execution_count": 134,
   "metadata": {
    "collapsed": false
   },
   "outputs": [],
   "source": [
    "# O(N ^ 2)\n",
    "# a,b are lists of {0, 1}\n",
    "def multiply_1(a, b):\n",
    "    assert len(a) <= len(b)\n",
    "    if len(a) <= 0:\n",
    "        return []\n",
    "    elif len(a) == 1:\n",
    "        if a[0] == 0:\n",
    "            return [0 for i in b]\n",
    "        else:\n",
    "            return b[:]\n",
    "    right = multiply(a[:len(a)/2], b) + [0 for _ in range(len(a)/2, len(a))]\n",
    "    left = [0 for _ in range(len(a)/2)] + multiply(a[len(a)/2:], b)\n",
    "    s = [l+r for l,r in zip(left, right)] #  contains 2's and possibly 3's after carry-over\n",
    "\n",
    "    for i in reversed(range(len(s))):\n",
    "        if s[i] == 2 or s[i] == 3:\n",
    "            s[i] = 0 if s[i] == 2 else 1\n",
    "            if i == 0:\n",
    "                s.insert(0, 1)\n",
    "            else:\n",
    "                s[i-1] += 1\n",
    "    return s[s.index(1):]  # filters out 0-padding\n",
    "\n",
    "# Karatsuba\n",
    "# Analysis: T(n) = 3 T(n/2) + Theta(n)\n",
    "# via master theorem: O(n ^ log_2(3))\n",
    "def multiply_2(a, b):\n",
    "    assert len(a) == len(b)\n",
    "    n = len(a)\n",
    "    if len(a) <= 3:\n",
    "        # TODO: do stuff\n",
    "        pass\n",
    "    A2 = a[:n/2], A1 = a[n/2:]\n",
    "    A2 = a[:n/2], A1 = a[n/2:]\n",
    "    C1 = mult(A1, B1)\n",
    "    C2 = mult(A2, B2)\n",
    "    C3 = mult(add(A1, A2), add(B1, B2))\n",
    "    return add(add(shift(C1, n), shift(sub(sub(C3, C1), C2), n/2)), C2)"
   ]
  },
  {
   "cell_type": "code",
   "execution_count": 135,
   "metadata": {
    "collapsed": false
   },
   "outputs": [],
   "source": [
    "assert multiply_1([1, 1, 0], [1, 1, 1]) == [1, 0, 1, 0, 1, 0]\n",
    "assert multiply_1([1, 0], [0, 1]) == [1, 0]"
   ]
  },
  {
   "cell_type": "markdown",
   "metadata": {},
   "source": [
    "Refinement (3-way divide): $T(n) = 5 T(n/3) + \\Theta(n)$\n",
    "\n",
    "Schonhage-Strassen '71: $O(n \\log n \\log \\log n)$\n",
    "\n",
    "Furer '07: $O(n \\log n \\log^* n)$\n",
    "\n",
    "Open question: can multiplication be done in $O(n \\log n)$?\n",
    "\n",
    "---"
   ]
  },
  {
   "cell_type": "markdown",
   "metadata": {},
   "source": [
    "# Matrix Multiplication\n",
    "\n",
    "Given $n \\times n$ matrices $A, B \\in \\mathbb{R}^{n \\times n}$, compute $n \\times n$ matrix $C = AB$.\n",
    "\n",
    "Trivial solution is $O(n^3)$.\n",
    "\n",
    "Strassen's Algorithm (https://en.wikipedia.org/wiki/Strassen_algorithm): We note that we can subdivide each matrix into 4 quadrants, resulting in only needing $8 T(n/2) + \\Theta(n^2) = O(n^3)$. But we can use matrix substructure to only need 7 multiplications."
   ]
  },
  {
   "cell_type": "markdown",
   "metadata": {},
   "source": [
    " \n",
    "$\\mathbf{A} =\n",
    "\\begin{bmatrix}\n",
    "\\mathbf{A}_{1,1} & \\mathbf{A}_{1,2} \\\\\n",
    "\\mathbf{A}_{2,1} & \\mathbf{A}_{2,2}\n",
    "\\end{bmatrix}\n",
    "\\mbox { , }\n",
    "\\mathbf{B} =\n",
    "\\begin{bmatrix}\n",
    "\\mathbf{B}_{1,1} & \\mathbf{B}_{1,2} \\\\\n",
    "\\mathbf{B}_{2,1} & \\mathbf{B}_{2,2}\n",
    "\\end{bmatrix}\n",
    "\\mbox { , }\n",
    "\\mathbf{C} =\n",
    "\\begin{bmatrix}\n",
    "\\mathbf{C}_{1,1} & \\mathbf{C}_{1,2} \\\\\n",
    "\\mathbf{C}_{2,1} & \\mathbf{C}_{2,2}\n",
    "\\end{bmatrix}$\n",
    "\n",
    "$\\mathbf{M}_{1} := (\\mathbf{A}_{1,1} + \\mathbf{A}_{2,2}) (\\mathbf{B}_{1,1} + \\mathbf{B}_{2,2})$\n",
    "\n",
    "$\\mathbf{M}_{2} := (\\mathbf{A}_{2,1} + \\mathbf{A}_{2,2}) \\mathbf{B}_{1,1}$\n",
    "\n",
    "$\\mathbf{M}_{3} := \\mathbf{A}_{1,1} (\\mathbf{B}_{1,2} - \\mathbf{B}_{2,2})$\n",
    "\n",
    "$\\mathbf{M}_{4} := \\mathbf{A}_{2,2} (\\mathbf{B}_{2,1} - \\mathbf{B}_{1,1})$\n",
    "\n",
    "$\\mathbf{M}_{5} := (\\mathbf{A}_{1,1} + \\mathbf{A}_{1,2}) \\mathbf{B}_{2,2}$\n",
    "\n",
    "$\\mathbf{M}_{6} := (\\mathbf{A}_{2,1} - \\mathbf{A}_{1,1}) (\\mathbf{B}_{1,1} + \\mathbf{B}_{1,2})$\n",
    "\n",
    "$\\mathbf{M}_{7} := (\\mathbf{A}_{1,2} - \\mathbf{A}_{2,2}) (\\mathbf{B}_{2,1} + \\mathbf{B}_{2,2})$\n",
    "\n",
    "$\\mathbf{C}_{1,1} = \\mathbf{M}_{1} + \\mathbf{M}_{4} - \\mathbf{M}_{5} + \\mathbf{M}_{7}$\n",
    "\n",
    "$\\mathbf{C}_{1,2} = \\mathbf{M}_{3} + \\mathbf{M}_{5}$\n",
    "\n",
    "$\\mathbf{C}_{2,1} = \\mathbf{M}_{2} + \\mathbf{M}_{4}$\n",
    "\n",
    "$\\mathbf{C}_{2,2} = \\mathbf{M}_{1} - \\mathbf{M}_{2} + \\mathbf{M}_{3} + \\mathbf{M}_{6}$\n",
    "\n",
    "\n",
    "So overall is $T(n) = 7 T(n/2) + \\Theta(n^2) = O(n^{\\log_2{7}}) = O(n^{2.8})$\n",
    "\n",
    "Current state-of-the-art: https://en.wikipedia.org/wiki/Coppersmith%E2%80%93Winograd_algorithm"
   ]
  }
 ],
 "metadata": {
  "kernelspec": {
   "display_name": "Python 2",
   "language": "python",
   "name": "python2"
  },
  "language_info": {
   "codemirror_mode": {
    "name": "ipython",
    "version": 2
   },
   "file_extension": ".py",
   "mimetype": "text/x-python",
   "name": "python",
   "nbconvert_exporter": "python",
   "pygments_lexer": "ipython2",
   "version": "2.7.11"
  }
 },
 "nbformat": 4,
 "nbformat_minor": 0
}
