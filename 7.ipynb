{
 "cells": [
  {
   "cell_type": "markdown",
   "metadata": {},
   "source": [
    "# Greedy Algorithms\n",
    "\n",
    "Each step, choose the best local max. Fast, but proof of global optimum is often hard.\n",
    "\n",
    "\n",
    "## Disjoint Interval (Activity Selection)\n",
    "\n",
    "Given a set of intervals, find largest set of disjoint intervals."
   ]
  },
  {
   "cell_type": "code",
   "execution_count": 6,
   "metadata": {
    "collapsed": true
   },
   "outputs": [],
   "source": [
    "# O(N log N)\n",
    "def disjoint_1(intervals):\n",
    "    intervals.sort(key=lambda (left, right):right)\n",
    "    biggest_so_far = None\n",
    "    answers = []\n",
    "    for (l, r) in intervals:\n",
    "        if biggest_so_far is None or biggest_so_far <= l:\n",
    "            answers.append((l, r))\n",
    "            biggest_so_far = r\n",
    "    return answers"
   ]
  },
  {
   "cell_type": "code",
   "execution_count": 5,
   "metadata": {
    "collapsed": false
   },
   "outputs": [],
   "source": [
    "assert disjoint_1([(1, 2), (3, 4), (2, 3), (1, 3)]) == [(1, 2), (2, 3), (3, 4)]"
   ]
  },
  {
   "cell_type": "markdown",
   "metadata": {},
   "source": [
    "Proof of correctness: suppose we choose a sequence $a_1 ... a_n$, but there's a longer length sequence $b_1 ... b_{m}, m > n$. We know that $b_{1R} > a_{1R}$ by the selection algorithm. Then $a_1 b_2 ... b_{m}$ is still optimal and disjoint. Then we compare $a_2$ with $b_2$, $a_3$ with $b_3$, etc. But then $b_{n+1}$ should be choosable by the selection algorithm, and thus a contradiction so we know our algorithm is optimal."
   ]
  }
 ],
 "metadata": {
  "kernelspec": {
   "display_name": "Python 2",
   "language": "python",
   "name": "python2"
  },
  "language_info": {
   "codemirror_mode": {
    "name": "ipython",
    "version": 2
   },
   "file_extension": ".py",
   "mimetype": "text/x-python",
   "name": "python",
   "nbconvert_exporter": "python",
   "pygments_lexer": "ipython2",
   "version": "2.7.11"
  }
 },
 "nbformat": 4,
 "nbformat_minor": 0
}
