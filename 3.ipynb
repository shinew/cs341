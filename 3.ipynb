{
 "cells": [
  {
   "cell_type": "markdown",
   "metadata": {},
   "source": [
    "### Asymptotic Notation\n",
    "\n",
    "Fact: $f(n) \\in o(g(n)) \\iff \\lim_{n \\to \\infty} f(n)/g(n) = 0$\n",
    "\n",
    "$\\omega \\iff =\\infty$\n",
    "\n",
    "$\\Theta \\iff = C \\neq \\infty, 0$\n",
    "\n",
    "Use L'Hopital's Rule.\n",
    "\n",
    "Useful: $a^{\\log_b{n}} = n^{\\log_b{a}}$\n",
    "\n",
    "---"
   ]
  },
  {
   "cell_type": "markdown",
   "metadata": {
    "collapsed": true
   },
   "source": [
    "$\\sum{i} = \\Theta(n^2)$ (arithmetic series)\n",
    "\n",
    "$\\sum{c^i} = \\Theta(c^n)$ (geometric series)\n",
    "\n",
    "$\\sum{1/i} = \\Theta(\\log n)$ (harmonic series)\n",
    "\n",
    "$\\log(n!) = n \\log n - \\Theta(n)$ (harmonic series) (Stirling formula)\n",
    "\n",
    "$\\Theta(\\sum \\log (n/i)) = \\Theta(\\sum (\\log n - \\log i)) = \\Theta(n \\log n - (n \\log n - \\Theta(n))) = \\Theta(n)$\n",
    "\n",
    "$T(n) = 2T(n/2) + n^2 = \\Theta(N^2)$"
   ]
  }
 ],
 "metadata": {
  "kernelspec": {
   "display_name": "Python 2",
   "language": "python",
   "name": "python2"
  },
  "language_info": {
   "codemirror_mode": {
    "name": "ipython",
    "version": 2
   },
   "file_extension": ".py",
   "mimetype": "text/x-python",
   "name": "python",
   "nbconvert_exporter": "python",
   "pygments_lexer": "ipython2",
   "version": "2.7.11"
  }
 },
 "nbformat": 4,
 "nbformat_minor": 0
}
