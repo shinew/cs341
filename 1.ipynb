{
 "cells": [
  {
   "cell_type": "markdown",
   "metadata": {},
   "source": [
    "### Problem (Bentley)\n",
    "\n",
    "Given numbers $a_1 ... a_n$, find a contiguous subsequence (\"block\") s.t. largest sum."
   ]
  },
  {
   "cell_type": "code",
   "execution_count": 3,
   "metadata": {
    "collapsed": true
   },
   "outputs": [],
   "source": [
    "# O(N^3)\n",
    "def largest_block_sum1(numbers):\n",
    "    best = 0\n",
    "    n = len(numbers)\n",
    "    for i in range(n):\n",
    "        for j in range(i+1, n):\n",
    "            total = 0\n",
    "            for k in range(i, j):\n",
    "                total += numbers[k]\n",
    "            best = max(best, total)\n",
    "    return best"
   ]
  },
  {
   "cell_type": "code",
   "execution_count": 4,
   "metadata": {
    "collapsed": true
   },
   "outputs": [],
   "source": [
    "# O(N^2)\n",
    "def largest_block_sum2(numbers):\n",
    "    best = 0\n",
    "    n = len(numbers)\n",
    "    for i in range(n):\n",
    "        total = 0\n",
    "        for j in range(i, n):\n",
    "            total += numbers[j]\n",
    "            best = max(best, total)\n",
    "    return best"
   ]
  },
  {
   "cell_type": "code",
   "execution_count": 5,
   "metadata": {
    "collapsed": true
   },
   "outputs": [],
   "source": [
    "# O(N log N)\n",
    "# divide and conquer\n",
    "def largest_block_sum3(numbers):\n",
    "    if len(numbers) == 0:\n",
    "        return 0\n",
    "    elif len(numbers) == 1:\n",
    "        return max(0, numbers[0])\n",
    "\n",
    "    n = len(numbers)\n",
    "    midpoint = n / 2\n",
    "    subproblems = max(largest_block_sum3(numbers[:midpoint]),\n",
    "                      largest_block_sum3(numbers[midpoint:]))  # copies 'cause lazy\n",
    "\n",
    "    right = 0\n",
    "    current = 0\n",
    "    for i in range(midpoint, n):\n",
    "        current += numbers[i]\n",
    "        right = max(right, current)\n",
    "\n",
    "    left = 0\n",
    "    current = 0\n",
    "    for i in range(midpoint - 1, -1, -1):\n",
    "        current += numbers[i]\n",
    "        left = max(left, current)\n",
    "\n",
    "    return max(subproblems, left + right)"
   ]
  },
  {
   "cell_type": "code",
   "execution_count": 6,
   "metadata": {
    "collapsed": false
   },
   "outputs": [],
   "source": [
    "# O(N)\n",
    "def largest_block_sum4(numbers):\n",
    "    best = 0\n",
    "    current = 0\n",
    "    for number in numbers:\n",
    "        current = max(current + number, number)\n",
    "        best = max(best, current)\n",
    "    return best"
   ]
  },
  {
   "cell_type": "code",
   "execution_count": 7,
   "metadata": {
    "collapsed": false
   },
   "outputs": [],
   "source": [
    "test_array = [1, -6, 3, -1, 4, 2, -3, 2]\n",
    "\n",
    "assert largest_block_sum1(test_array) == 8\n",
    "assert largest_block_sum2(test_array) == 8\n",
    "assert largest_block_sum3(test_array) == 8\n",
    "assert largest_block_sum4(test_array) == 8"
   ]
  },
  {
   "cell_type": "code",
   "execution_count": null,
   "metadata": {
    "collapsed": true
   },
   "outputs": [],
   "source": []
  }
 ],
 "metadata": {
  "kernelspec": {
   "display_name": "Python 2",
   "language": "python",
   "name": "python2"
  },
  "language_info": {
   "codemirror_mode": {
    "name": "ipython",
    "version": 2
   },
   "file_extension": ".py",
   "mimetype": "text/x-python",
   "name": "python",
   "nbconvert_exporter": "python",
   "pygments_lexer": "ipython2",
   "version": "2.7.11"
  }
 },
 "nbformat": 4,
 "nbformat_minor": 0
}
