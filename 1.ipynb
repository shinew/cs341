{
 "cells": [
  {
   "cell_type": "markdown",
   "metadata": {},
   "source": [
    "### Problem (Bentley)\n",
    "\n",
    "Given numbers $a_1 ... a_n$, find a contiguous subsequence (\"block\") s.t. largest sum."
   ]
  },
  {
   "cell_type": "code",
   "execution_count": 12,
   "metadata": {
    "collapsed": true
   },
   "outputs": [],
   "source": [
    "# O(N^3)\n",
    "def largest_block_sum1(numbers):\n",
    "    best = 0\n",
    "    n = len(numbers)\n",
    "    for i in range(n):\n",
    "        for j in range(i+1, n):\n",
    "            total = 0\n",
    "            for k in range(i, j):\n",
    "                total += numbers[k]\n",
    "            best = max(best, total)\n",
    "    return best"
   ]
  },
  {
   "cell_type": "code",
   "execution_count": 14,
   "metadata": {
    "collapsed": true
   },
   "outputs": [],
   "source": [
    "# O(N^2)\n",
    "def largest_block_sum2(numbers):\n",
    "    best = 0\n",
    "    n = len(numbers)\n",
    "    for i in range(n):\n",
    "        total = 0\n",
    "        for j in range(i, n):\n",
    "            total += numbers[j]\n",
    "            best = max(best, total)\n",
    "    return best"
   ]
  },
  {
   "cell_type": "code",
   "execution_count": 36,
   "metadata": {
    "collapsed": true
   },
   "outputs": [],
   "source": [
    "# O(N log N)\n",
    "# divide and conquer\n",
    "def largest_block_sum3(numbers):\n",
    "    if len(numbers) == 0:\n",
    "        return 0\n",
    "    elif len(numbers) == 1:\n",
    "        return max(0, numbers[0])\n",
    "\n",
    "    n = len(numbers)\n",
    "    midpoint = n / 2\n",
    "    subproblems = max(largest_block_sum3(numbers[:midpoint]),\n",
    "                      largest_block_sum3(numbers[midpoint:]))  # copies 'cause lazy\n",
    "\n",
    "    right = 0\n",
    "    current = 0\n",
    "    for i in range(midpoint, n):\n",
    "        current += numbers[i]\n",
    "        right = max(right, current)\n",
    "\n",
    "    left = 0\n",
    "    current = 0\n",
    "    for i in range(midpoint - 1, -1, -1):\n",
    "        current += numbers[i]\n",
    "        left = max(left, current)\n",
    "\n",
    "    return max(subproblems, left + right)"
   ]
  },
  {
   "cell_type": "code",
   "execution_count": 37,
   "metadata": {
    "collapsed": false
   },
   "outputs": [],
   "source": [
    "# O(N)\n",
    "def largest_block_sum4(numbers):\n",
    "    best = 0\n",
    "    current = 0\n",
    "    for number in numbers:\n",
    "        current = max(current + number, 0)\n",
    "        best = max(best, current)\n",
    "    return best"
   ]
  },
  {
   "cell_type": "code",
   "execution_count": 38,
   "metadata": {
    "collapsed": false
   },
   "outputs": [
    {
     "name": "stdout",
     "output_type": "stream",
     "text": [
      "8\n",
      "8\n",
      "8\n",
      "8\n"
     ]
    }
   ],
   "source": [
    "print largest_block_sum1([1, -6, 3, -1, 4, 2, -3, 2])\n",
    "print largest_block_sum2([1, -6, 3, -1, 4, 2, -3, 2])\n",
    "print largest_block_sum3([1, -6, 3, -1, 4, 2, -3, 2])\n",
    "print largest_block_sum4([1, -6, 3, -1, 4, 2, -3, 2])"
   ]
  },
  {
   "cell_type": "code",
   "execution_count": null,
   "metadata": {
    "collapsed": true
   },
   "outputs": [],
   "source": []
  }
 ],
 "metadata": {
  "kernelspec": {
   "display_name": "Python 2",
   "language": "python",
   "name": "python2"
  },
  "language_info": {
   "codemirror_mode": {
    "name": "ipython",
    "version": 2
   },
   "file_extension": ".py",
   "mimetype": "text/x-python",
   "name": "python",
   "nbconvert_exporter": "python",
   "pygments_lexer": "ipython2",
   "version": "2.7.11"
  }
 },
 "nbformat": 4,
 "nbformat_minor": 0
}
