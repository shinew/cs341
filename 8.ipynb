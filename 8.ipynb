{
 "cells": [
  {
   "cell_type": "markdown",
   "metadata": {
    "collapsed": true
   },
   "source": [
    "# Greedy Algorithm 2\n",
    "## Stable Marriage\n",
    "\n",
    "Given $n$ men and $n$ women, output a *perfect* (complete bijection) matching $M$ between men/women s.t. there are no 2 $(m, w)$, $(m', w')$, s.t. $m$ prefers $w'$ to $w$ and $w'$ prefers $m$ to $m'$.\n",
    "\n",
    "`function stableMatching {\n",
    "    Initialize all m ∈ M and w ∈ W to free\n",
    "    while ∃ free man m who still has a woman w to propose to {\n",
    "       w = first woman on m’s list to whom m has not yet proposed\n",
    "       if w is free\n",
    "         (m, w) become engaged\n",
    "       else some pair (m', w) already exists\n",
    "         if w prefers m to m'\n",
    "            m' becomes free\n",
    "           (m, w) become engaged \n",
    "         else\n",
    "           (m', w) remain engaged\n",
    "    }\n",
    "}`\n",
    "\n",
    "Invariants:\n",
    "\n",
    "This terminates because the while loops runs at most $O(n^2)$ times, $n$ times for each man as he goes down his list.\n",
    "Women will always be matched with a partner (since they'll be reached in someone's list eventually), and since the cardinalities of the sets are equal, men will always find a partner too.\n",
    "\n",
    "This is stable as men always propose in order of their preferences. If there were another women he hasn't proposed to, it must've been a women that he proposed to already, then she either dumped him or she rejected him in the first place."
   ]
  }
 ],
 "metadata": {
  "kernelspec": {
   "display_name": "Python 2",
   "language": "python",
   "name": "python2"
  },
  "language_info": {
   "codemirror_mode": {
    "name": "ipython",
    "version": 2
   },
   "file_extension": ".py",
   "mimetype": "text/x-python",
   "name": "python",
   "nbconvert_exporter": "python",
   "pygments_lexer": "ipython2",
   "version": "2.7.11"
  }
 },
 "nbformat": 4,
 "nbformat_minor": 0
}
