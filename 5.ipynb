{
 "cells": [
  {
   "cell_type": "code",
   "execution_count": 5,
   "metadata": {
    "collapsed": true
   },
   "outputs": [],
   "source": [
    "import math"
   ]
  },
  {
   "cell_type": "markdown",
   "metadata": {},
   "source": [
    "# Algorithm Design Technique: Divide and Conquer\n",
    "\n",
    "- divide into subproblems of same type\n",
    "- recurse\n",
    "- combine\n",
    "\n",
    "## Problem (Maxima)\n",
    "Given a set $P$ of $n$ points in 2D, we say point $p$ dominates $q$ iff $p.x > q.x$ and $p.y > q.y$.\n",
    "\n",
    "We say point $q$ is *maximal* if $q \\in P$ and no point in $P$ dominates $q$.\n",
    "\n",
    "Find all maximal points."
   ]
  },
  {
   "cell_type": "code",
   "execution_count": 6,
   "metadata": {
    "collapsed": false
   },
   "outputs": [],
   "source": [
    "# O(N^2)\n",
    "# brute force\n",
    "def find_maximal_1(points):\n",
    "    big_points = []\n",
    "    for point1 in points:\n",
    "        for point2 in points:\n",
    "            if point1 != point2 and (point1[0] < point2[0] or point1[1] < point2[1]):\n",
    "                break\n",
    "        else:\n",
    "            big_points.append(point1)\n",
    "    return big_points\n",
    "\n",
    "# O(N log N)\n",
    "# couple of ways e.g. convex hull, 2D range tree (?), sort-then-line-sweep, divide and conquer (below)\n",
    "def find_maximal_2(points):\n",
    "    def f(points):\n",
    "        n = len(points)\n",
    "        if n <= 1:\n",
    "            return points\n",
    "        ls = f(points[:n/2])\n",
    "        rs = f(points[n/2:])\n",
    "        values = [x for x in ls if x[1] > rs[0][1]] + rs\n",
    "        return values\n",
    "\n",
    "    return f(sorted(points))"
   ]
  },
  {
   "cell_type": "code",
   "execution_count": 7,
   "metadata": {
    "collapsed": false
   },
   "outputs": [
    {
     "name": "stdout",
     "output_type": "stream",
     "text": [
      "[(1, 1)]\n",
      "[(1, 1)]\n"
     ]
    }
   ],
   "source": [
    "print find_maximal_1([(1, 1), (0, 0), (0, 1), (1, 0)])\n",
    "print find_maximal_2([(1, 1), (0, 0), (0, 1), (1, 0)])"
   ]
  },
  {
   "cell_type": "markdown",
   "metadata": {},
   "source": [
    "## Closest Pair\n",
    "\n",
    "Given a set of $n$ points in 2D, find the pair of points s.t. the Euclidean distance, or $(x-y)^2$, is minimized."
   ]
  },
  {
   "cell_type": "code",
   "execution_count": 14,
   "metadata": {
    "collapsed": false
   },
   "outputs": [],
   "source": [
    "def dist(px, py):\n",
    "    return (px[0] - py[0]) ** 2 + (px[1] - py[1]) ** 2\n",
    "\n",
    "# O(N^2)\n",
    "# brute force\n",
    "def find_closest_1(points):\n",
    "    assert len(points) >= 2\n",
    "    best = float('inf')\n",
    "    for i in range(len(points)):\n",
    "        for j in range(i+1, len(points)):\n",
    "            if dist(points[i], points[j]) < best:\n",
    "                best = dist(points[i], points[j])\n",
    "    return math.sqrt(best)\n",
    "\n",
    "# O(N log N)\n",
    "# Shamos' Algorithm\n",
    "# This is because T(n) = 2 T(n/2) + O(n log n) = O (n^2 log n)\n",
    "# But optimally, we don't need to sort within this algorithm, so T(n) = 2 T(n/2) + O(n) = O (n log n)\n",
    "def find_closest_2(points):\n",
    "    sorted_by_ys = sorted(points, key=lambda p:p[1])\n",
    "\n",
    "    def f(points):\n",
    "        if len(points) <= 1:\n",
    "            return float('inf')\n",
    "        if len(points) == 2:\n",
    "            return math.sqrt(dist(points[0], points[1]))\n",
    "        if len(points) == 3:\n",
    "            return math.sqrt(min(dist(points[0], points[1]), dist(points[0], points[2]), dist(points[1], points[2])))\n",
    "        x_m = points[len(points)/2][0]\n",
    "        p_l = [p for p in points if p[0] <= x_m]\n",
    "        p_r = [p for p in points if p[0] > x_m]\n",
    "        closest_l = f(p_l)\n",
    "        closest_r = f(p_r)\n",
    "        delta = min(closest_l, closest_r)\n",
    "\n",
    "        # first idea: look at pairs within some [x - delta, x + delta] range\n",
    "        within_delta_l = [p for p in p_l if x_m - delta <= p[0]]\n",
    "        within_delta_r = [p for p in p_r if p[0] <= x_m + delta]\n",
    "\n",
    "        # second idea: if we have sliding window upwards of length delta x delta,\n",
    "        # each window contains <= 8 points, because of Pidgeonhole Principle\n",
    "        combined = within_delta_l + within_delta_r\n",
    "        windows = filter(lambda p: p in combined, sorted_by_ys) # \"sorting\" in O(N) by y-values\n",
    "        best = delta\n",
    "        for i in range(len(windows)): # O(n)\n",
    "            for j in range(i, min(len(windows), i+8)): # O(1)\n",
    "                for k in range(j+1, min(len(windows), i+8)): # O(1)\n",
    "                    best = min(best, dist(windows[i], windows[k]))\n",
    "        return best\n",
    "\n",
    "    return f(sorted(points))"
   ]
  },
  {
   "cell_type": "code",
   "execution_count": 15,
   "metadata": {
    "collapsed": false
   },
   "outputs": [
    {
     "name": "stdout",
     "output_type": "stream",
     "text": [
      "1.41421356237\n",
      "1.41421356237\n"
     ]
    }
   ],
   "source": [
    "print find_closest_1([(0, 0), (1, 1), (2, 2), (3, 3)])\n",
    "print find_closest_2([(0, 0), (1, 1), (2, 2), (3, 3)])"
   ]
  }
 ],
 "metadata": {
  "kernelspec": {
   "display_name": "Python 2",
   "language": "python",
   "name": "python2"
  },
  "language_info": {
   "codemirror_mode": {
    "name": "ipython",
    "version": 2
   },
   "file_extension": ".py",
   "mimetype": "text/x-python",
   "name": "python",
   "nbconvert_exporter": "python",
   "pygments_lexer": "ipython2",
   "version": "2.7.11"
  }
 },
 "nbformat": 4,
 "nbformat_minor": 0
}
